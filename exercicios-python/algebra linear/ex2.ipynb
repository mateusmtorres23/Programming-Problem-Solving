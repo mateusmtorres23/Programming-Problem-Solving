{
 "cells": [
  {
   "cell_type": "markdown",
   "id": "101991b4",
   "metadata": {},
   "source": [
    "Codigo da matriz invertida"
   ]
  },
  {
   "cell_type": "code",
   "execution_count": 2,
   "id": "ce2eb058",
   "metadata": {},
   "outputs": [
    {
     "name": "stdout",
     "output_type": "stream",
     "text": [
      "[[-2.   1. ]\n",
      " [ 1.5 -0.5]]\n"
     ]
    }
   ],
   "source": [
    "import numpy as np\n",
    "def matrizInv(a,b,c,d):\n",
    "    det = (a*d)-(b*c)\n",
    "    a,d = d,a\n",
    "    b,c = -b, -c\n",
    "    inv = (1/det)*np.array([[a,b],[c,d]])\n",
    "    return print(inv)\n",
    "\n",
    "a,b = [int(x) for x in input(\"Digite a primeira linha da sua matriz 2X2:\\n\").split(\",\")]\n",
    "c,d = [int(x) for x in input(\"Digite a segunda linha da sua matriz 2X2:\\n\").split(\",\")]\n",
    "matrizInv(a,b,c,d)"
   ]
  }
 ],
 "metadata": {
  "kernelspec": {
   "display_name": "Python 3",
   "language": "python",
   "name": "python3"
  },
  "language_info": {
   "codemirror_mode": {
    "name": "ipython",
    "version": 3
   },
   "file_extension": ".py",
   "mimetype": "text/x-python",
   "name": "python",
   "nbconvert_exporter": "python",
   "pygments_lexer": "ipython3",
   "version": "3.13.3"
  }
 },
 "nbformat": 4,
 "nbformat_minor": 5
}
