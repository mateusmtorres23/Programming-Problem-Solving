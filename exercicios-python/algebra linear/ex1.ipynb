{
  "cells": [
    {
      "cell_type": "markdown",
      "metadata": {
        "id": "mqMkPZYhHQ_j"
      },
      "source": [
        "# Aplicações de Matrizes em Situações do Dia a Dia\n",
        "#### Vamos apresentar dois problemas rotineiros: um sobre um planejamento de atividades físicas e outro sobre planejamento financeiro de uma empresa. Ambos podem ser solucionados utilizando conhecimentos sobre matrizes em Álgebra Linear."
      ]
    },
    {
      "cell_type": "code",
      "execution_count": null,
      "metadata": {},
      "outputs": [],
      "source": []
    },
    {
      "cell_type": "markdown",
      "metadata": {
        "id": "LoogJ7ZjHQ_l"
      },
      "source": [
        "##### Leon, Steven J., 1943 - Álgebra Linear com Aplicações/ Steven J. Leon; tradução Valéria de Magalhães Iório - [reimpr]. Rio de Janeiro: LTC, 2008."
      ]
    },
    {
      "cell_type": "markdown",
      "metadata": {
        "id": "QngF8fqdHQ_m"
      },
      "source": [
        "### Aplicação 1: Queimando calorias"
      ]
    },
    {
      "cell_type": "markdown",
      "metadata": {
        "id": "YMmoP237HQ_m"
      },
      "source": [
        "Alysson pesa 81 quilos (os dados são meramente ilustrativos...). Ele quer perder peso por meio de um progama de dieta e exercícios. Após consultar a **tabela 1**, ele monta o programa de exercícios na **tabela 2**. quantas calorias ele vai queimar por dia se seguir esse progama?"
      ]
    },
    {
      "cell_type": "markdown",
      "metadata": {
        "id": "72dpmZnPHQ_m"
      },
      "source": [
        "#### Tabela 1. Calorias Queimadas por Hora"
      ]
    },
    {
      "cell_type": "markdown",
      "metadata": {
        "id": "55l5LrbkHQ_n"
      },
      "source": [
        "- **Atividades Esportivas**"
      ]
    },
    {
      "cell_type": "markdown",
      "metadata": {
        "id": "v7kof48XHQ_n"
      },
      "source": [
        "|**Peso**|**Andar a 3km/h**|**Correr a 9km/h**|**Andar de bicicleta a 9km/h**|**Jogar Tênis(Moderado)**|\n",
        "|:------:|:---------------:|:----------------:|:----------------------------:|:-----------------------:|\n",
        "|69      |213              |651               |304                           |420                      |\n",
        "|73      |225              |688               |321                           |441                      |\n",
        "|77      |237              |726               |338                           |468                      |\n",
        "|81      |249              |764               |356                           |492                      |"
      ]
    },
    {
      "cell_type": "code",
      "execution_count": 2,
      "metadata": {
        "id": "ORk5dfcAHQ_n"
      },
      "outputs": [],
      "source": [
        "# importando a biblioteca numpy do Python\n",
        "import numpy as np\n",
        "# importando a biblioteca de funções do Python matplotlib\n",
        "import matplotlib\n",
        "import matplotlib.pyplot as plt\n",
        "%matplotlib inline"
      ]
    },
    {
      "cell_type": "code",
      "execution_count": 3,
      "metadata": {
        "id": "c6JG9KQoHQ_o"
      },
      "outputs": [],
      "source": [
        "# definindo a matriz A a partir da tabela 1\n",
        "A = np.array([[213, 651, 304, 420],\n",
        "              [225, 688, 321, 441],\n",
        "              [237, 726, 338, 468],\n",
        "              [249, 764, 356, 492]])"
      ]
    },
    {
      "cell_type": "code",
      "execution_count": 4,
      "metadata": {
        "colab": {
          "base_uri": "https://localhost:8080/"
        },
        "id": "pRv1UO5zHQ_o",
        "outputId": "1d0c6318-9c88-4194-c2a0-76a7bee248f3"
      },
      "outputs": [
        {
          "name": "stdout",
          "output_type": "stream",
          "text": [
            "A matriz A é\n",
            "\n",
            " [[213 651 304 420]\n",
            " [225 688 321 441]\n",
            " [237 726 338 468]\n",
            " [249 764 356 492]]\n"
          ]
        }
      ],
      "source": [
        "# imprimindo a matriz A\n",
        "print(\"A matriz A é\\n\\n\", A)"
      ]
    },
    {
      "cell_type": "markdown",
      "metadata": {
        "id": "a8Jkb-6nHQ_p"
      },
      "source": [
        "#### Tabela 2. Horas por Dia para Cada Atividade"
      ]
    },
    {
      "cell_type": "markdown",
      "metadata": {
        "id": "o6vABAB-HQ_q"
      },
      "source": [
        "- **Programa de Exercícios**"
      ]
    },
    {
      "cell_type": "markdown",
      "metadata": {
        "id": "Rf-pNdYTHQ_q"
      },
      "source": [
        "|**Dias da Semana**|**Andar**|**Correr**|**Andar de Bicicleta**|**Jogar Tênis**|\n",
        "|:----------------:|:-------:|:--------:|:--------------------:|:-------------:|\n",
        "|Segunda-feira     |1.0      |0.0       |1.0                   |0.0            |\n",
        "|Terça-feira       |0.0      |0.0       |0.0                   |2.0            |\n",
        "|Quarta-feira      |0.4      |0.5       |0.0                   |0.0            |\n",
        "|Quinta-feira      |0.0      |0.0       |0.5                   |2.0            |\n",
        "|Sexta-feira       |0.4      |0.5       |0.0                   |0.0            |"
      ]
    },
    {
      "cell_type": "code",
      "execution_count": null,
      "metadata": {
        "id": "ftmsg5MUHQ_q"
      },
      "outputs": [],
      "source": [
        "# definindo a matriz B a partir da tabela 2\n",
        "B = np.array([[1.0, 0.0, 1.0, 0.0],\n",
        "              [0.0, 0.0, 0.0, 2.0],\n",
        "              [0.4, 0.5, 0.0, 0.0],\n",
        "              [0.0, 0.0, 0.5, 2.0],\n",
        "              [0.4, 0.5, 0.0, 0.0]])"
      ]
    },
    {
      "cell_type": "code",
      "execution_count": null,
      "metadata": {
        "colab": {
          "base_uri": "https://localhost:8080/"
        },
        "id": "AzJXZGPdHQ_r",
        "outputId": "69f44f68-7f60-435b-884d-e0048a76c41b"
      },
      "outputs": [
        {
          "name": "stdout",
          "output_type": "stream",
          "text": [
            "A matriz B é\n",
            "\n",
            " [[1.  0.  1.  0. ]\n",
            " [0.  0.  0.  2. ]\n",
            " [0.4 0.5 0.  0. ]\n",
            " [0.  0.  0.5 2. ]\n",
            " [0.4 0.5 0.  0. ]]\n"
          ]
        }
      ],
      "source": [
        "# imprimindo a matriz B\n",
        "print(\"A matriz B é\\n\\n\", B)"
      ]
    },
    {
      "cell_type": "markdown",
      "metadata": {
        "id": "1w55Bw6JHQ_r"
      },
      "source": [
        "###### Solução:"
      ]
    },
    {
      "cell_type": "markdown",
      "metadata": {
        "id": "daygSFtzHQ_r"
      },
      "source": [
        "A informação pertinente para Alysson está localizada na quarta linha da **matriz A**, pois são os dados referentes a quem pesa 81 quilos."
      ]
    },
    {
      "cell_type": "markdown",
      "metadata": {
        "id": "3tXVT4AXHQ_r"
      },
      "source": [
        "Vamos criar uma nova matriz **x** do tipo **vetor-coluna** baseado nos dados contidos na 4º linha da **matriz A**."
      ]
    },
    {
      "cell_type": "code",
      "execution_count": null,
      "metadata": {
        "id": "pDNTtxm3HQ_r"
      },
      "outputs": [],
      "source": [
        "# x recebe a quarta linha de A\n",
        "x = A[3]"
      ]
    },
    {
      "cell_type": "code",
      "execution_count": null,
      "metadata": {
        "id": "kSX1Z49xHQ_s"
      },
      "outputs": [],
      "source": [
        "# x é transposta para se tornar um vetor-coluna\n",
        "x = np.transpose(x)"
      ]
    },
    {
      "cell_type": "code",
      "execution_count": null,
      "metadata": {
        "id": "wTp0t09VYuA_"
      },
      "outputs": [],
      "source": []
    },
    {
      "cell_type": "markdown",
      "metadata": {
        "id": "ekumhAj9HQ_s"
      },
      "source": [
        "Para resolver o problema, basta multiplicar a matriz $B_{5_{x}4}$ pela matriz $x_{4_{x}1}$."
      ]
    },
    {
      "cell_type": "code",
      "execution_count": null,
      "metadata": {
        "id": "R2uQzOeTHQ_s"
      },
      "outputs": [],
      "source": [
        "# realizando a multiplicação da matriz B com a matriz x\n",
        "Calorias = np.dot(B,x)"
      ]
    },
    {
      "cell_type": "code",
      "execution_count": null,
      "metadata": {
        "colab": {
          "base_uri": "https://localhost:8080/"
        },
        "id": "i41Mjc4tHQ_t",
        "outputId": "03567b7c-fcfa-4fa8-b0e3-23bce222595d"
      },
      "outputs": [
        {
          "name": "stdout",
          "output_type": "stream",
          "text": [
            "A matriz com valores de calorias gastas é:\n",
            "\n",
            " [ 605.   984.   481.6 1162.   481.6]\n"
          ]
        }
      ],
      "source": [
        "# imprimindo a matriz de calorias gastas por semana\n",
        "print(\"A matriz com valores de calorias gastas é:\\n\\n\", Calorias)"
      ]
    },
    {
      "cell_type": "markdown",
      "metadata": {
        "id": "5rQyhomC9dir"
      },
      "source": []
    },
    {
      "cell_type": "code",
      "execution_count": null,
      "metadata": {
        "id": "iMEykFYcHQ_t"
      },
      "outputs": [],
      "source": [
        "# esquematizando as etiquetas do gráfico no eixo x\n",
        "DiasdaSemana = ['Segunda-feira', 'Terça-feira', 'Quarta-feira', 'Quinta-feira', 'Sexta-feira']"
      ]
    },
    {
      "cell_type": "markdown",
      "metadata": {
        "id": "5tFZgrxtHQ_t"
      },
      "source": [
        "Dessa forma, vemos que Alysson, seguindo sua rotina de atividades físicas, queimara as respectivas calorias durante a semana:"
      ]
    },
    {
      "cell_type": "markdown",
      "metadata": {
        "id": "A6vf-iRnHQ_u"
      },
      "source": [
        "|**Dias da Semana**|**Calorias Gastas**|\n",
        "|:----------------:|:-----------------:|\n",
        "|Segunda-feira     |605.0 calorias     |\n",
        "|Terça-feira       |984.0 calorias     |\n",
        "|Quarta-feira      |481.6 calorias     |\n",
        "|Quinta-feira      |1162.0 calorias    |\n",
        "|Sexta-feira       |481.6 calorias     |"
      ]
    },
    {
      "cell_type": "markdown",
      "metadata": {
        "id": "Ia0y8ORMHQ_u"
      },
      "source": [
        "Assim, podemos ter o seguinte gráfico:"
      ]
    },
    {
      "cell_type": "code",
      "execution_count": null,
      "metadata": {
        "id": "A-cnS24zHQ_u",
        "outputId": "166903ef-b204-4f03-e96d-5506e74dce54"
      },
      "outputs": [
        {
          "data": {
            "text/plain": [
              "Text(0.5, 1.0, 'Gráfico de Calorias Gastas por Alysson')"
            ]
          },
          "execution_count": 12,
          "metadata": {},
          "output_type": "execute_result"
        },
        {
          "data": {
            "image/png": "[encoded data removed]",
            "text/plain": [
              "<Figure size 576x360 with 1 Axes>"
            ]
          },
          "metadata": {
            "needs_background": "light"
          },
          "output_type": "display_data"
        }
      ],
      "source": [
        "# definindo as dimensões do gráfico\n",
        "plt.figure(figsize=(8,5))\n",
        "# definindo a legenda do eixo x\n",
        "plt.xlabel('Dias da Semana')\n",
        "# definindo as legendas do eixo y\n",
        "plt.ylabel('Calorias Gastas')\n",
        "# plotando o gráfico e definindo uma legenda\n",
        "plt.plot(DiasdaSemana, Calorias, label = 'Calorias Gastas/Dia')\n",
        "# chamando a legenda para ser exposta no gráfico\n",
        "plt.legend()\n",
        "# definindo um input diferente de 0 para entrada verdadeira na grade do gráfico\n",
        "plt.grid(True)\n",
        "# definindo o título do gráfico\n",
        "plt.title('Gráfico de Calorias Gastas por Alysson')"
      ]
    },
    {
      "cell_type": "markdown",
      "metadata": {
        "id": "yovU3GgjHQ_u"
      },
      "source": [
        "A visualização não ficou muito adequada com esse gráfico. Talvez um gráfico de barras fosse mais adequado para essa situação."
      ]
    },
    {
      "cell_type": "code",
      "execution_count": null,
      "metadata": {
        "id": "sEN3MBMIHQ_u",
        "outputId": "ece1b422-7e96-4ae3-bfdb-924f2899636b"
      },
      "outputs": [
        {
          "data": {
            "text/plain": [
              "Text(0.5, 1.0, 'Gráfico de Calorias Gastas por Alysson')"
            ]
          },
          "execution_count": 15,
          "metadata": {},
          "output_type": "execute_result"
        },
        {
          "data": {
            "image/png": "[encoded data removed]",
            "text/plain": [
              "<Figure size 576x360 with 1 Axes>"
            ]
          },
          "metadata": {
            "needs_background": "light"
          },
          "output_type": "display_data"
        }
      ],
      "source": [
        "# definindo as dimensões do gráfico\n",
        "plt.figure(figsize=(8,5))\n",
        "# definindo a legenda do eixo x\n",
        "plt.xlabel('Dias da Semana')\n",
        "# definindo as legendas do eixo y\n",
        "plt.ylabel('Calorias Gastas')\n",
        "# plotando o gráfico e definindo uma legenda\n",
        "plt.barh(DiasdaSemana, Calorias, label = 'Calorias Gastas/Dia')\n",
        "# chamando a legenda para ser exposta no gráfico\n",
        "plt.legend()\n",
        "# definindo um input diferente de 0 para entrada verdadeira na grade do gráfico\n",
        "plt.grid(True)\n",
        "# definindo o título do gráfico\n",
        "plt.title('Gráfico de Calorias Gastas por Alysson')"
      ]
    },
    {
      "cell_type": "markdown",
      "metadata": {
        "id": "losgpVgcHQ_v"
      },
      "source": [
        "**Atividade**\n",
        "\n",
        "**Aplicação 2: Gestão Financeira de uma Empresa**\n"
      ]
    },
    {
      "cell_type": "markdown",
      "metadata": {
        "id": "7R_HavTKHQ_v"
      },
      "source": [
        "Uma empresa fabrica três produtos. Suas despesas de produção estão divididas em três categorias. Em cada uma dessas categorias, faz-se uma estimativa do custo de produção de um único exemplar de cada produto. Faz-se, também, uma estimativa da quantidade de cada produto a ser fabricado por trimestre. Essas estimativas são dadas na **tabela 3** e na **tabela 4**. A empresa gostaria de apresentar a seus acionistas uma única tabela mostrando o custo total por **trimestre** de cada uma das três categorias: **matéria- prima**, **pessoal** e **despesas gerais**."
      ]
    },
    {
      "cell_type": "markdown",
      "metadata": {
        "id": "WlgRZA1pHQ_v"
      },
      "source": [
        "#### Tabela 3. Custo de Produção por Item (em reais)"
      ]
    },
    {
      "cell_type": "markdown",
      "metadata": {
        "id": "G-Fja3ZLHQ_v"
      },
      "source": [
        "|**Gastos**     |**Produto A**|**Produto B**|**Produto C**|\n",
        "|:-------------:|:-----------:|:-----------:|:-----------:|\n",
        "|Matéria-prima  |0.10         |0.30         |0.15         |\n",
        "|Pessoal        |0.30         |0.40         |0.25         |\n",
        "|Despesas-gerais|0.10         |0.20         |0.15         |"
      ]
    },
    {
      "cell_type": "markdown",
      "metadata": {
        "id": "SBxbGVFj9fRs"
      },
      "source": [
        "###### Tabela 4. Quantidade Produzida por Trimestre"
      ]
    },
    {
      "cell_type": "markdown",
      "metadata": {
        "id": "nLFjz1c59nBv"
      },
      "source": [
        "|**Produto**|**Verão**|**Outono**|**Inverno**|**Primavera**|\n",
        "|:---------:|:-------:|:--------:|:---------:|:-----------:|\n",
        "|A          |4000     |4500      |4500       |4000         |\n",
        "|B          |2000     |2600      |2400       |2200         |\n",
        "|C          |5800     |6200      |6000       |6000         |"
      ]
    },
    {
      "cell_type": "code",
      "execution_count": 11,
      "metadata": {
        "id": "a8dA_D_D9luH"
      },
      "outputs": [
        {
          "name": "stdout",
          "output_type": "stream",
          "text": [
            "[[1870. 2160. 2070. 1960.]\n",
            " [3450. 3940. 3810. 3580.]\n",
            " [1670. 1900. 1830. 1740.]]\n"
          ]
        },
        {
          "data": {
            "text/plain": [
              "(None, None)"
            ]
          },
          "execution_count": 11,
          "metadata": {},
          "output_type": "execute_result"
        },
        {
          "data": {
            "image/png": "[encoded data removed]",
            "text/plain": [
              "<Figure size 600x400 with 1 Axes>"
            ]
          },
          "metadata": {},
          "output_type": "display_data"
        }
      ],
      "source": [
        "def questao1():\n",
        "    trimestres = ['verão','outono','inverno','primavera']\n",
        "    A = np.array([[0.1,0.3,0.15],\n",
        "                [0.3,0.4,0.25],\n",
        "                [0.1,0.2,0.15]])\n",
        "    B = np.array([[4000,4500,4500,4000],\n",
        "                [2000,2600,2400,2200],\n",
        "                [5800,6200,6000,6000]])\n",
        "    gastos = np.dot(A,B)\n",
        "    gastosTotais = np.sum(gastos, axis=0)\n",
        "    \n",
        "    def grafico1():\n",
        "        plt.figure(figsize=(6,4))\n",
        "        plt.xlabel('trimestres')\n",
        "        plt.ylabel('gastos')\n",
        "        plt.barh(trimestres, gastosTotais, label = 'Gastos/trimestre')\n",
        "        plt.legend()\n",
        "        plt.grid(True)\n",
        "        plt.title('Gráfico de gastos por trimestre')\n",
        "    return print(gastos), grafico1()\n",
        "questao1()"
      ]
    },
    {
      "cell_type": "markdown",
      "metadata": {
        "id": "qDAZK9i1C40G"
      },
      "source": [
        "|**Custos**|**Verão**|**Outono**|**Inverno**|**Primavera**|\n",
        "|:---------:|:-------:|:--------:|:---------:|:-----------:|\n",
        "|Materia prima         |1870     |2160    |2070       |1960         |\n",
        "|pesoal          |    |      |      |       |\n",
        "|Despensa          |     |      |    |         |"
      ]
    },
    {
      "cell_type": "code",
      "execution_count": null,
      "metadata": {
        "id": "a7h7hHanDZod"
      },
      "outputs": [],
      "source": []
    },
    {
      "cell_type": "markdown",
      "metadata": {
        "id": "t1G8OpWLTkvD"
      },
      "source": [
        "Desafio; ## Problema: Rede de Transporte entre Cidades\n",
        "\n",
        "\n",
        "Quatro cidades (A, B, C e D) estão conectadas por linhas de ônibus.\n",
        "A matriz M representa o número de viagens diárias que partem de uma cidade (linha)\n",
        "e chegam a outra cidade (coluna):\n",
        "\n",
        "\n",
        "M = [[0, 5, 3, 2],\n",
        "[4, 0, 6, 1],\n",
        "[2, 3, 0, 7],\n",
        "[1, 4, 2, 0]]\n",
        "\n",
        "\n",
        "**Questões:**\n",
        "\n",
        "\n",
        "1. Calcule o total de viagens que partem de cada cidade (soma das linhas).\n",
        "2. Calcule o total de viagens que chegam em cada cidade (soma das colunas).\n",
        "3. Calcule M^2 = M · M e interprete o significado de seus elementos em termos de\n",
        "conexões com uma parada (rota em dois trechos).\n",
        "4. Verifique se existe alguma cidade cujo total de viagens que partem é igual ao total\n",
        "de viagens que chegam.\n",
        "\n",
        "\n",
        "\"\"\""
      ]
    },
    {
      "cell_type": "code",
      "execution_count": null,
      "metadata": {
        "id": "7koiSVt4TnsN"
      },
      "outputs": [
        {
          "name": "stdout",
          "output_type": "stream",
          "text": [
            "10\n",
            "11\n",
            "12\n",
            "7\n",
            "[ 7 12 11 10]\n",
            "[[28 17 34 26]\n",
            " [13 42 14 50]\n",
            " [19 38 38  7]\n",
            " [20 11 27 20]]\n",
            "\n"
          ]
        }
      ],
      "source": [
        "M = np.array([[0, 5, 3, 2],\n",
        "              [4, 0, 6, 1],\n",
        "              [2, 3, 0, 7],\n",
        "              [1, 4, 2, 0]])\n",
        "partida = np.sum(M, axis = 1)\n",
        "chegada = np.sum(M, axis = 0)\n",
        "#1.\n",
        "print(\"numero de partidas\\n\")\n",
        "for numero in partida:\n",
        "    print(f\"{numero}\\n\")\n",
        "#2.\n",
        "print(f\"numero de chegadas\\n{chegada}\\n\")\n",
        "\n",
        "square = np.dot(M,M)\n",
        "#3.\n",
        "print(f\"{square}\\ncomentario: essa matriz corresponde ao numero de jeitos diferentes que vc pode ir de uma cidade a outro realizando uma parada\")\n",
        "\n",
        "#4\n",
        "print(f\"não dá pois ao compara as matrizes de chegada e partida a respectiva linha de uma cidade não equivale a coluna de chegada da mesma\")\n"
      ]
    }
  ],
  "metadata": {
    "colab": {
      "provenance": []
    },
    "kernelspec": {
      "display_name": "venv",
      "language": "python",
      "name": "python3"
    },
    "language_info": {
      "codemirror_mode": {
        "name": "ipython",
        "version": 3
      },
      "file_extension": ".py",
      "mimetype": "text/x-python",
      "name": "python",
      "nbconvert_exporter": "python",
      "pygments_lexer": "ipython3",
      "version": "3.13.3"
    }
  },
  "nbformat": 4,
  "nbformat_minor": 0
}
